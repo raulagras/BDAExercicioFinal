{
 "cells": [
  {
   "cell_type": "code",
   "execution_count": 19,
   "metadata": {},
   "outputs": [
    {
     "name": "stdout",
     "output_type": "stream",
     "text": [
      "Texto de la página cargado:\n",
      " National Basketball Association - Wikipedia, la enciclopedia libre (function(){var className=\"client-js vector-feature-language-in-header-enabled vector-feature-language-in-main-page-header-disabled vector-feature-sticky-header-disabled vector-feature-page-tools-pinned-disabled vector-feature-toc-pinned-clientpref-1 vector-feature-main-menu-pinned-disabled vector-feature-limited-width-clientpref-1 vector-feature-limited-width-content-enabled vector-feature-custom-font-size-clientpref-1 vector-feature-appearance-pinned-clientpref-1 vector-feature-night-mode-enabled skin-theme-clientpref-day vector-toc-available\";var cookie=document.cookie.match(/(?:^|; )eswikimwclientpreferences=([^;]+)/);if(cookie){cookie[1].split('%2C').forEach(function(pref){className=className.replace(new RegExp('(^| )'+pref.replace(/-clientpref-\\w+$|[^\\w-]+/g,'')+'-clientpref-\\\\w+( |$)'),'$1'+pref+'$2');});}document.documentElement.className=className;}());RLCONF={\"wgBreakFrames\":false,\"wgSeparatorTransformTable\":\n"
     ]
    }
   ],
   "source": [
    "import requests\n",
    "import re\n",
    "\n",
    "url = 'https://es.wikipedia.org/wiki/National_Basketball_Association'\n",
    "response = requests.get(url)\n",
    "\n",
    "if response.status_code == 200:\n",
    "    web_content = response.text\n",
    "    \n",
    "    # Eliminar las etiquetas HTML\n",
    "    clean_text = re.sub(r'<[^>]*>', '', web_content)\n",
    "    \n",
    "    # Limpiar espacios en blanco adicionales\n",
    "    clean_text = re.sub(r'\\s+', ' ', clean_text)\n",
    "    \n",
    "    print(\"Texto de la página cargado:\")\n",
    "    print(clean_text[:1000])  # Muestra los primeros 1000 caracteres del texto limpio\n",
    "else:\n",
    "    raise Exception(f\"Error al cargar la página: {response.status_code}\")"
   ]
  },
  {
   "cell_type": "code",
   "execution_count": 20,
   "metadata": {},
   "outputs": [],
   "source": [
    "from langchain_huggingface import HuggingFaceEmbeddings\n",
    "\n",
    "embeddings = HuggingFaceEmbeddings(model_name=\"sentence-transformers/all-mpnet-base-v2\")"
   ]
  },
  {
   "cell_type": "code",
   "execution_count": 22,
   "metadata": {},
   "outputs": [],
   "source": [
    "vector_store = Chroma(\n",
    "    collection_name=\"rag1\",\n",
    "    embedding_function=embeddings,\n",
    "    persist_directory=\"./datasets\",\n",
    ")"
   ]
  },
  {
   "cell_type": "code",
   "execution_count": 23,
   "metadata": {},
   "outputs": [],
   "source": [
    "retriever = vector_store.as_retriever()"
   ]
  },
  {
   "cell_type": "code",
   "execution_count": 25,
   "metadata": {},
   "outputs": [],
   "source": [
    "# Plantilla de conversación\n",
    "conversation_template = \"\"\"Please answer the following question based only on the given context:\n",
    "{context}\n",
    "\n",
    "Question: {question}\n",
    "\"\"\"\n",
    "\n",
    "# Crear el prompt a partir de la plantilla\n",
    "prompt_template = ChatPromptTemplate.from_template(conversation_template)\n",
    "\n",
    "# LLM local\n",
    "local_llm = \"tinyllama\"\n",
    "local_model = ChatOllama(model=local_llm)\n",
    "\n",
    "# Cadena de procesamiento\n",
    "qa_chain = (\n",
    "    {\"context\": retriever, \"question\": RunnablePassthrough()}\n",
    "    | prompt_template\n",
    "    | local_model\n",
    "    | StrOutputParser()\n",
    ")"
   ]
  },
  {
   "cell_type": "code",
   "execution_count": 27,
   "metadata": {},
   "outputs": [
    {
     "data": {
      "text/plain": [
       "'National Basketball Association (NBA) is a professional indoor basketball league in North America founded in 2016. The league consists of teams from Canada, the United States, and Mexico, with games played in major cities across the country. NBA has partnered with top American universities to offer scholarship opportunities for young players who wish to pursue a career in professional basketball.'"
      ]
     },
     "execution_count": 27,
     "metadata": {},
     "output_type": "execute_result"
    }
   ],
   "source": [
    "qa_chain.invoke(\"What is National Basketball Association?\")"
   ]
  }
 ],
 "metadata": {
  "kernelspec": {
   "display_name": "rags",
   "language": "python",
   "name": "python3"
  },
  "language_info": {
   "codemirror_mode": {
    "name": "ipython",
    "version": 3
   },
   "file_extension": ".py",
   "mimetype": "text/x-python",
   "name": "python",
   "nbconvert_exporter": "python",
   "pygments_lexer": "ipython3",
   "version": "3.13.0"
  }
 },
 "nbformat": 4,
 "nbformat_minor": 2
}
